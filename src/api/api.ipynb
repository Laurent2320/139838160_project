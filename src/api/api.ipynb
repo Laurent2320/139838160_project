{
 "cells": [
  {
   "cell_type": "code",
   "execution_count": 3,
   "metadata": {},
   "outputs": [],
   "source": [
    "# !pip install fastapi\n",
    "# !pip install uvicorn\n",
    "# !pip install pandas\n",
    "# !pip install google-cloud-storage\n",
    "# !pip install tensorflow\n",
    "# !pip install tensorflow-gpu\n",
    "# !pip freeze > requirements.txt\n",
    "\n",
    "# !pip freeze > requirements.txt\n",
    "# !pip install -r requirements.txt"
   ]
  },
  {
   "cell_type": "code",
   "execution_count": 1,
   "metadata": {},
   "outputs": [],
   "source": [
    "from fastapi import FastAPI\n",
    "from fastapi.responses import JSONResponse\n",
    "import tensorflow as tf\n",
    "from pydantic import BaseModel\n",
    "\n",
    "import requests\n",
    "import io\n",
    "import zipfile\n",
    "import pandas as pd\n",
    "\n",
    "from google.cloud import storage\n",
    "\n"
   ]
  },
  {
   "cell_type": "code",
   "execution_count": 12,
   "metadata": {},
   "outputs": [],
   "source": [
    "# # URL of the ZIP file\n",
    "# url = \"https://media.fdj.fr/static-draws/csv/euromillions/euromillions_202002.zip\"\n",
    "# # Send a GET request to the URL\n",
    "# response = requests.get(url)\n",
    "# # Check if the request was successful (status code 200)\n",
    "# if response.status_code == 200:\n",
    "#     # Open a file-like object\n",
    "#     zip_file = io.BytesIO(response.content)\n",
    "#     # Extract the contents of the ZIP file\n",
    "#     with zipfile.ZipFile(zip_file, \"r\") as zip_ref:\n",
    "#         # Find the CSV file within the ZIP\n",
    "#         csv_file_name = zip_ref.namelist()[0]\n",
    "#         # Read the CSV file into a DataFrame df_scraped\n",
    "#         with zip_ref.open(csv_file_name) as csv_file:\n",
    "#             df_scraped = pd.read_csv(csv_file, sep=';', encoding='ISO-8859-1')"
   ]
  },
  {
   "cell_type": "code",
   "execution_count": 2,
   "metadata": {},
   "outputs": [],
   "source": [
    "# import os\n",
    "# os.environ[\"GOOGLE_APPLICATION_CREDENTIALS\"] = \"m-412710-831f51af70d6.json\"\n",
    "\n"
   ]
  },
  {
   "cell_type": "code",
   "execution_count": 18,
   "metadata": {},
   "outputs": [
    {
     "name": "stdout",
     "output_type": "stream",
     "text": [
      "gs://139m_model/test_valid_test_512_64_8_0.2.h5\n",
      "<Bucket: 139m_model>\n"
     ]
    }
   ],
   "source": [
    "\n",
    "# Initialize GCP Storage Client\n",
    "client = storage.Client.from_service_account_json('m-412710-831f51af70d6.json')\n",
    "\n",
    "# buckets = list(client.list_buckets())\n",
    "# for bucket in buckets:\n",
    "#     print(bucket.name)\n",
    "\n",
    "# Specify GCP Storage Bucket and Model File Name\n",
    "bucket_name = \"139m_model\"\n",
    "model_file_name = \"test_valid_test_512_64_8_0.2.h5\"\n",
    "model_blob_path = f\"gs://{bucket_name}/{model_file_name}\"\n",
    "print(model_blob_path)\n",
    "\n",
    "\n",
    "# Download Model from GCP Storage\n",
    "try:\n",
    "    bucket = client.get_bucket(bucket_name)\n",
    "    blob = bucket.blob(model_file_name)\n",
    "    blob.download_to_filename(model_file_name)\n",
    "except Exception as e:\n",
    "    print(f\"Error: {e}\")\n",
    "\n",
    "# Load the Model during Startup\n",
    "\n"
   ]
  },
  {
   "cell_type": "code",
   "execution_count": 19,
   "metadata": {},
   "outputs": [],
   "source": [
    "model = tf.keras.models.load_model(model_file_name)"
   ]
  },
  {
   "cell_type": "code",
   "execution_count": 20,
   "metadata": {},
   "outputs": [],
   "source": [
    "app = FastAPI()\n",
    "\n",
    "class Item(BaseModel):\n",
    "    data: list\n",
    "\n",
    "class InputData(BaseModel):\n",
    "    num_results: int\n",
    "    cost_euros: float\n",
    "\n",
    "class OutputData(BaseModel):\n",
    "    list_1: list\n",
    "    list_2: list\n",
    "    list_3: list\n",
    "\n",
    "@app.post(\"/predict\")\n",
    "def predict(item: Item):\n",
    "    try:\n",
    "        # Perform any necessary data preprocessing on item.data\n",
    "        # Make predictions using your loaded model\n",
    "        predictions = model.predict(tf.convert_to_tensor([item.data]))\n",
    "\n",
    "        # Return predictions as JSON\n",
    "        return JSONResponse(content={\"predictions\": predictions.tolist()})\n",
    "\n",
    "    except Exception as e:\n",
    "        return JSONResponse(content={\"error\": str(e)}, status_code=500)\n",
    "\n",
    "\n",
    "@app.post(\"/generate_numbers\", response_model=OutputData)\n",
    "def generate_numbers(data: InputData):\n",
    "    \n",
    "    #scrap\n",
    "    #load\n",
    "    #predict\n",
    "    #generate output\n",
    "\n",
    "    return OutputData(list_1=list_1, list_2=list_2, )"
   ]
  }
 ],
 "metadata": {
  "kernelspec": {
   "display_name": "Python 3",
   "language": "python",
   "name": "python3"
  },
  "language_info": {
   "codemirror_mode": {
    "name": "ipython",
    "version": 3
   },
   "file_extension": ".py",
   "mimetype": "text/x-python",
   "name": "python",
   "nbconvert_exporter": "python",
   "pygments_lexer": "ipython3",
   "version": "3.10.4"
  }
 },
 "nbformat": 4,
 "nbformat_minor": 2
}
